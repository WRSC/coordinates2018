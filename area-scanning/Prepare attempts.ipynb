{
 "cells": [
  {
   "cell_type": "code",
   "execution_count": 1,
   "metadata": {},
   "outputs": [],
   "source": [
    "import pandas as pd\n",
    "from datetime import datetime, timedelta\n",
    "import json"
   ]
  },
  {
   "cell_type": "code",
   "execution_count": 2,
   "metadata": {},
   "outputs": [],
   "source": [
    "!mkdir -p sailboat_attempts\n",
    "!mkdir -p microsailboat_attempts"
   ]
  },
  {
   "cell_type": "markdown",
   "metadata": {},
   "source": [
    "## Special cases\n",
    "\n",
    "### Aberystwyth attempt 2"
   ]
  },
  {
   "cell_type": "code",
   "execution_count": 3,
   "metadata": {},
   "outputs": [],
   "source": [
    "aber2 = pd.read_csv('aber-own-gps/AberSailbot-AreaScan-Attempt2.csv')\n",
    "\n",
    "# Move datetime first\n",
    "aber2 = aber2[['datetime', 'latitude', 'longitude']]\n",
    "\n",
    "# Select time for attempt - timestamps are UTC, but without 'Z'\n",
    "inwindow = (('2018-08-29T14:29:00' < aber2.datetime) & (aber2.datetime < '2018-08-29T15:14:00'))\n",
    "aber2 = aber2[inwindow]\n",
    "\n",
    "# Strip off microseconds, add Z for UTC timezone\n",
    "aber2.datetime = aber2.datetime.map(str).str[:len('2018-08-29T14:29:00')] + 'Z'\n",
    "\n",
    "aber2.to_csv('microsailboat_attempts/Aberystwyth2.csv', index=False)"
   ]
  },
  {
   "cell_type": "markdown",
   "metadata": {},
   "source": [
    "### Plymouth large boat 1"
   ]
  },
  {
   "cell_type": "code",
   "execution_count": 4,
   "metadata": {},
   "outputs": [
    {
     "data": {
      "text/plain": [
       "datetime.datetime(2018, 8, 26, 13, 22, 12, tzinfo=datetime.timezone.utc)"
      ]
     },
     "execution_count": 4,
     "metadata": {},
     "output_type": "execute_result"
    }
   ],
   "source": [
    "datetime.strptime('26/08/2018 13:22:12+0000', '%d/%m/%Y %H:%M:%S%z')"
   ]
  },
  {
   "cell_type": "code",
   "execution_count": 5,
   "metadata": {},
   "outputs": [],
   "source": [
    "plym_big1 = pd.read_csv('plymouth-own-gps/pb_first_attempt.csv')\n",
    "plym_big1.columns = ['nix', 'datetime', 'latitude', 'longitude']\n",
    "plym_big1 = plym_big1[['datetime', 'latitude', 'longitude']]\n",
    "plym_big1.datetime = [datetime.strptime(s + '+0000', '%d/%m/%Y %H:%M:%S%z') for s in plym_big1.datetime]\n",
    "\n",
    "# We think this is already trimmed to only the scorable data\n",
    "plym_big1.to_csv('sailboat_attempts/Plymouth1.csv', index=False)"
   ]
  },
  {
   "cell_type": "markdown",
   "metadata": {},
   "source": [
    "### Plymouth small boat 2"
   ]
  },
  {
   "cell_type": "code",
   "execution_count": 6,
   "metadata": {},
   "outputs": [],
   "source": [
    "plym_small2 = pd.read_csv('plymouth-own-gps/ps_second_attempt.csv')\n",
    "plym_small2.columns = ['nix', 'datetime', 'latitude', 'longitude']\n",
    "plym_small2 = plym_small2[['datetime', 'latitude', 'longitude']]\n",
    "plym_small2.datetime = [datetime.strptime(s + '+0000', '%d/%m/%Y %H:%M:%S%z') for s in plym_small2.datetime]\n",
    "\n",
    "# This should already be trimmed to size\n",
    "plym_small2.to_csv('microsailboat_attempts/Plymouth2.csv', index=False)"
   ]
  },
  {
   "cell_type": "markdown",
   "metadata": {},
   "source": [
    "## Small boats"
   ]
  },
  {
   "cell_type": "code",
   "execution_count": 7,
   "metadata": {},
   "outputs": [],
   "source": [
    "import json\n",
    "with open('attempts.json') as f:\n",
    "    attempts_times = json.load(f)['teams']"
   ]
  },
  {
   "cell_type": "code",
   "execution_count": 8,
   "metadata": {},
   "outputs": [
    {
     "name": "stdout",
     "output_type": "stream",
     "text": [
      "Plymouth (Micro-Sailboat) 1\n",
      "2616 points in attempt\n",
      "Subtracting 0 interruptions\n",
      "2616 points remaining\n",
      "Written microsailboat_attempts/Plymouth1.csv\n",
      "\n",
      "ZMART 1\n",
      "522 points in attempt\n",
      "Subtracting 0 interruptions\n",
      "522 points remaining\n",
      "Written microsailboat_attempts/ZMART1.csv\n",
      "\n",
      "ZMART 2\n",
      "2242 points in attempt\n",
      "Subtracting 1 interruptions\n",
      "2070 points remaining\n",
      "Written microsailboat_attempts/ZMART2.csv\n",
      "\n",
      "Southampton 2\n",
      "2707 points in attempt\n",
      "Subtracting 0 interruptions\n",
      "2707 points remaining\n",
      "Written microsailboat_attempts/Southampton2.csv\n",
      "\n",
      "AberSailbot 1\n",
      "218 points in attempt\n",
      "Subtracting 0 interruptions\n",
      "218 points remaining\n",
      "Written microsailboat_attempts/AberSailbot1.csv\n",
      "\n"
     ]
    }
   ],
   "source": [
    "# team, attempt no, source file\n",
    "micro_attempts = [\n",
    "    (\"Plymouth (Micro-Sailboat)\", 1, \"Plymouth1.csv\"),\n",
    "    (\"ZMART\", 1, \"ZMART1.csv\"),\n",
    "    (\"ZMART\", 2, \"ZMART2.csv\"),\n",
    "    # TODO: get Southampton first attempt from team\n",
    "    (\"Southampton\", 2, \"Southampton2.csv\"),\n",
    "    (\"AberSailbot\", 1, \"Aberystwyth1.csv\"),\n",
    "]\n",
    "\n",
    "def process_attempt(teamname, attemptno, sourcefile, to_folder):\n",
    "    print(teamname, attemptno)\n",
    "    track_data = pd.read_csv(sourcefile, parse_dates=[0])\n",
    "    attempt_times = attempts_times[teamname][attemptno - 1]\n",
    "    start_t = datetime.strptime(attempt_times['start'], '%Y-%m-%dT%H:%M:%S%z')\n",
    "    end_t  = datetime.strptime(attempt_times['end'], '%Y-%m-%dT%H:%M:%S%z')\n",
    "    in_attempt = (track_data.datetime >= start_t) & (track_data.datetime <= end_t)\n",
    "    print(in_attempt.sum(), \"points in attempt\")\n",
    "    \n",
    "    # Now subtract interruptions\n",
    "    intrpts_n = 0\n",
    "    in_intrpt = track_data.datetime < '2000-01-01'  # Start with all False, add interruptions\n",
    "    for intrpt in attempt_times['interruptions']:\n",
    "        int_start_t = datetime.strptime(intrpt['from'], '%Y-%m-%dT%H:%M:%S%z')\n",
    "        int_end_t = datetime.strptime(intrpt['to'], '%Y-%m-%dT%H:%M:%S%z')\n",
    "        if (int_end_t - int_start_t) <= timedelta(minutes=2):\n",
    "            # Ignore interruptions of 2 minutes or less\n",
    "            continue\n",
    "        \n",
    "        intrpts_n += 1\n",
    "        in_this_intrpt = (track_data.datetime > int_start_t) & (track_data.datetime < int_end_t)\n",
    "        in_intrpt |= in_this_intrpt\n",
    "    \n",
    "    print('Subtracting', intrpts_n, 'interruptions')\n",
    "    track_data = track_data[in_attempt & ~in_intrpt]\n",
    "    print(len(track_data), \"points remaining\")\n",
    "    filename = '{}/{}{}.csv'.format(to_folder, teamname.split()[0], attemptno)\n",
    "    track_data.to_csv(filename)\n",
    "    print(\"Written\", filename)\n",
    "    print()\n",
    "\n",
    "for teamname, attemptno, sourcefile in micro_attempts:\n",
    "    process_attempt(teamname, attemptno, sourcefile, 'microsailboat_attempts')"
   ]
  },
  {
   "cell_type": "code",
   "execution_count": 9,
   "metadata": {},
   "outputs": [
    {
     "name": "stdout",
     "output_type": "stream",
     "text": [
      "ENSTA 1\n",
      "2488 points in attempt\n",
      "Subtracting 0 interruptions\n",
      "2488 points remaining\n",
      "Written sailboat_attempts/ENSTA1.csv\n",
      "\n",
      "SJTU 1\n",
      "1957 points in attempt\n",
      "Subtracting 0 interruptions\n",
      "1957 points remaining\n",
      "Written sailboat_attempts/SJTU1.csv\n",
      "\n",
      "SJTU 2\n",
      "1785 points in attempt\n",
      "Subtracting 0 interruptions\n",
      "1785 points remaining\n",
      "Written sailboat_attempts/SJTU2.csv\n",
      "\n",
      "Åland 1\n",
      "1092 points in attempt\n",
      "Subtracting 1 interruptions\n",
      "803 points remaining\n",
      "Written sailboat_attempts/Åland1.csv\n",
      "\n"
     ]
    }
   ],
   "source": [
    "sailboat_attempts = [\n",
    "    (\"ENSTA\", 1, \"ENSTA1.csv\"),\n",
    "    (\"SJTU\", 1, \"Shanghai1.csv\"),\n",
    "    (\"SJTU\", 2, \"Shanghai1.csv\"),\n",
    "    (\"Åland\", 1, \"Åland1.csv\"),\n",
    "]\n",
    "\n",
    "for teamname, attemptno, sourcefile in sailboat_attempts:\n",
    "    process_attempt(teamname, attemptno, sourcefile, 'sailboat_attempts')"
   ]
  },
  {
   "cell_type": "code",
   "execution_count": null,
   "metadata": {},
   "outputs": [],
   "source": []
  }
 ],
 "metadata": {
  "kernelspec": {
   "display_name": "Python 3",
   "language": "python",
   "name": "python3"
  },
  "language_info": {
   "codemirror_mode": {
    "name": "ipython",
    "version": 3
   },
   "file_extension": ".py",
   "mimetype": "text/x-python",
   "name": "python",
   "nbconvert_exporter": "python",
   "pygments_lexer": "ipython3",
   "version": "3.6.6"
  }
 },
 "nbformat": 4,
 "nbformat_minor": 2
}
