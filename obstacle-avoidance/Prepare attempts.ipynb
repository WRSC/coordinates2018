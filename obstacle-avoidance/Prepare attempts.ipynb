{
 "cells": [
  {
   "cell_type": "code",
   "execution_count": 1,
   "metadata": {},
   "outputs": [],
   "source": [
    "import pandas as pd\n",
    "from datetime import datetime, timedelta\n",
    "import json"
   ]
  },
  {
   "cell_type": "code",
   "execution_count": 2,
   "metadata": {},
   "outputs": [],
   "source": [
    "!mkdir -p sailboat_attempts\n",
    "!mkdir -p microsailboat_attempts"
   ]
  },
  {
   "cell_type": "markdown",
   "metadata": {},
   "source": [
    "## Small boats"
   ]
  },
  {
   "cell_type": "code",
   "execution_count": 3,
   "metadata": {},
   "outputs": [],
   "source": [
    "import json\n",
    "with open('attempts.json') as f:\n",
    "    attempts_times = json.load(f)['teams']"
   ]
  },
  {
   "cell_type": "code",
   "execution_count": 4,
   "metadata": {},
   "outputs": [
    {
     "data": {
      "text/plain": [
       "[{'start': '2018-08-30T15:09:00+0100',\n",
       "  'end': '2018-08-30T15:25:00+0100',\n",
       "  'interruptions': [],\n",
       "  'attempt': 1},\n",
       " {'start': '2018-08-30T16:35:00+0100',\n",
       "  'end': '2018-08-30T17:06:00+0100',\n",
       "  'interruptions': [],\n",
       "  'attempt': 2}]"
      ]
     },
     "execution_count": 4,
     "metadata": {},
     "output_type": "execute_result"
    }
   ],
   "source": [
    "attempts_times['AberSailbot']"
   ]
  },
  {
   "cell_type": "code",
   "execution_count": 5,
   "metadata": {},
   "outputs": [
    {
     "name": "stdout",
     "output_type": "stream",
     "text": [
      "Plymouth (Micro-Sailboat) 1\n",
      "21360 points in file\n",
      "Attempt duration: 0:11:00\n",
      "634 points in attempt\n",
      "Subtracting 0 interruptions\n",
      "634 points remaining\n",
      "Written microsailboat_attempts/Plymouth1.csv\n",
      "\n",
      "Plymouth (Micro-Sailboat) 2\n",
      "21360 points in file\n",
      "Attempt duration: 0:06:00\n",
      "331 points in attempt\n",
      "Subtracting 0 interruptions\n",
      "331 points remaining\n",
      "Written microsailboat_attempts/Plymouth2.csv\n",
      "\n",
      "Plymouth (Micro-Sailboat) 3\n",
      "21360 points in file\n",
      "Attempt duration: 0:08:00\n",
      "460 points in attempt\n",
      "Subtracting 0 interruptions\n",
      "460 points remaining\n",
      "Written microsailboat_attempts/Plymouth3.csv\n",
      "\n",
      "Plymouth (Micro-Sailboat) 4\n",
      "21360 points in file\n",
      "Attempt duration: 0:14:00\n",
      "804 points in attempt\n",
      "Subtracting 0 interruptions\n",
      "804 points remaining\n",
      "Written microsailboat_attempts/Plymouth4.csv\n",
      "\n",
      "ZMART 1\n",
      "190 points in file\n",
      "Attempt duration: 0:12:00\n",
      "0 points in attempt\n",
      "Subtracting 0 interruptions\n",
      "0 points remaining\n",
      "Written microsailboat_attempts/ZMART1.csv\n",
      "\n",
      "Southampton 1\n",
      "7010 points in file\n",
      "Attempt duration: 0:17:00\n",
      "976 points in attempt\n",
      "Subtracting 0 interruptions\n",
      "976 points remaining\n",
      "Written microsailboat_attempts/Southampton1.csv\n",
      "\n",
      "Southampton 2\n",
      "4340 points in file\n",
      "Attempt duration: 0:39:00\n",
      "1895 points in attempt\n",
      "Subtracting 1 interruptions\n",
      "1552 points remaining\n",
      "Written microsailboat_attempts/Southampton2.csv\n",
      "\n",
      "AberSailbot 1\n",
      "6280 points in file\n",
      "Attempt duration: 0:16:00\n",
      "909 points in attempt\n",
      "Subtracting 0 interruptions\n",
      "909 points remaining\n",
      "Written microsailboat_attempts/AberSailbot1.csv\n",
      "\n",
      "AberSailbot 2\n",
      "5410 points in file\n",
      "Attempt duration: 0:31:00\n",
      "1745 points in attempt\n",
      "Subtracting 0 interruptions\n",
      "1745 points remaining\n",
      "Written microsailboat_attempts/AberSailbot2.csv\n",
      "\n"
     ]
    }
   ],
   "source": [
    "# team, attempt no, source file\n",
    "micro_attempts = [\n",
    "    (\"Plymouth (Micro-Sailboat)\", 1, \"Plymouth1.csv\"),\n",
    "    (\"Plymouth (Micro-Sailboat)\", 2, \"Plymouth1.csv\"),\n",
    "    (\"Plymouth (Micro-Sailboat)\", 3, \"Plymouth1.csv\"),\n",
    "    (\"Plymouth (Micro-Sailboat)\", 4, \"Plymouth1.csv\"),\n",
    "    (\"ZMART\", 1, \"ZMART1.csv\"),  # We seem to be missing data during the attempt\n",
    "    (\"Southampton\", 1, \"Southampton1.csv\"),\n",
    "    (\"Southampton\", 2, \"Southampton2.csv\"),  # Missing the first few minutes, but...\n",
    "    (\"AberSailbot\", 1, \"Aberystwyth1.csv\"),\n",
    "    (\"AberSailbot\", 2, \"Aberystwyth2.csv\"),\n",
    "]\n",
    "\n",
    "def process_attempt(teamname, attemptno, sourcefile, to_folder):\n",
    "    print(teamname, attemptno)\n",
    "    track_data = pd.read_csv(sourcefile, parse_dates=[0])\n",
    "    print(len(track_data), \"points in file\")\n",
    "    attempt_times = attempts_times[teamname][attemptno - 1]\n",
    "    start_t = datetime.strptime(attempt_times['start'], '%Y-%m-%dT%H:%M:%S%z')\n",
    "    end_t  = datetime.strptime(attempt_times['end'], '%Y-%m-%dT%H:%M:%S%z')\n",
    "    print(\"Attempt duration:\", end_t - start_t)\n",
    "    in_attempt = (track_data.datetime >= start_t) & (track_data.datetime <= end_t)\n",
    "    print(in_attempt.sum(), \"points in attempt\")\n",
    "    \n",
    "    # Now subtract interruptions\n",
    "    intrpts_n = 0\n",
    "    in_intrpt = track_data.datetime < '2000-01-01'  # Start with all False, add interruptions\n",
    "    for intrpt in attempt_times['interruptions']:\n",
    "        int_start_t = datetime.strptime(intrpt['from'], '%Y-%m-%dT%H:%M:%S%z')\n",
    "        int_end_t = datetime.strptime(intrpt['to'], '%Y-%m-%dT%H:%M:%S%z')\n",
    "        if (int_end_t - int_start_t) <= timedelta(minutes=2):\n",
    "            # Ignore interruptions of 2 minutes or less\n",
    "            continue\n",
    "        \n",
    "        intrpts_n += 1\n",
    "        in_this_intrpt = (track_data.datetime > int_start_t) & (track_data.datetime < int_end_t)\n",
    "        in_intrpt |= in_this_intrpt\n",
    "    \n",
    "    print('Subtracting', intrpts_n, 'interruptions')\n",
    "    track_data = track_data[in_attempt & ~in_intrpt]\n",
    "    print(len(track_data), \"points remaining\")\n",
    "    filename = '{}/{}{}.csv'.format(to_folder, teamname.split()[0], attemptno)\n",
    "    track_data.to_csv(filename, index=False)\n",
    "    print(\"Written\", filename)\n",
    "    print()\n",
    "\n",
    "for teamname, attemptno, sourcefile in micro_attempts:\n",
    "    process_attempt(teamname, attemptno, sourcefile, 'microsailboat_attempts')"
   ]
  },
  {
   "cell_type": "code",
   "execution_count": 6,
   "metadata": {},
   "outputs": [
    {
     "name": "stdout",
     "output_type": "stream",
     "text": [
      "ENSTA 1\n",
      "7750 points in file\n",
      "Attempt duration: 0:05:00\n",
      "285 points in attempt\n",
      "Subtracting 0 interruptions\n",
      "285 points remaining\n",
      "Written sailboat_attempts/ENSTA1.csv\n",
      "\n",
      "ENSTA 2\n",
      "7750 points in file\n",
      "Attempt duration: 0:50:00\n",
      "2782 points in attempt\n",
      "Subtracting 0 interruptions\n",
      "2782 points remaining\n",
      "Written sailboat_attempts/ENSTA2.csv\n",
      "\n",
      "SJTU 1\n",
      "9010 points in file\n",
      "Attempt duration: 0:18:00\n",
      "1038 points in attempt\n",
      "Subtracting 0 interruptions\n",
      "1038 points remaining\n",
      "Written sailboat_attempts/SJTU1.csv\n",
      "\n",
      "SJTU 2\n",
      "9010 points in file\n",
      "Attempt duration: 0:53:00\n",
      "3037 points in attempt\n",
      "Subtracting 0 interruptions\n",
      "3037 points remaining\n",
      "Written sailboat_attempts/SJTU2.csv\n",
      "\n"
     ]
    }
   ],
   "source": [
    "sailboat_attempts = [\n",
    "    (\"ENSTA\", 1, \"ENSTA1.csv\"),\n",
    "    (\"ENSTA\", 2, \"ENSTA1.csv\"),\n",
    "    (\"SJTU\", 1, \"SJTU2.csv\"),\n",
    "    (\"SJTU\", 2, \"SJTU2.csv\"),\n",
    "]\n",
    "\n",
    "for teamname, attemptno, sourcefile in sailboat_attempts:\n",
    "    process_attempt(teamname, attemptno, sourcefile, 'sailboat_attempts')"
   ]
  }
 ],
 "metadata": {
  "kernelspec": {
   "display_name": "Python 3",
   "language": "python",
   "name": "python3"
  },
  "language_info": {
   "codemirror_mode": {
    "name": "ipython",
    "version": 3
   },
   "file_extension": ".py",
   "mimetype": "text/x-python",
   "name": "python",
   "nbconvert_exporter": "python",
   "pygments_lexer": "ipython3",
   "version": "3.6.6"
  }
 },
 "nbformat": 4,
 "nbformat_minor": 2
}
