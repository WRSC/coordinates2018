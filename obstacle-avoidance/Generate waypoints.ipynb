{
 "cells": [
  {
   "cell_type": "code",
   "execution_count": 1,
   "metadata": {},
   "outputs": [],
   "source": [
    "from pyproj import Proj\n",
    "import numpy as np"
   ]
  },
  {
   "cell_type": "code",
   "execution_count": 2,
   "metadata": {},
   "outputs": [],
   "source": [
    "# Southampton is in UTM zone 30\n",
    "utm_zone = 30\n",
    "projection = Proj(proj='utm', zone=utm_zone, ellps='WGS84')"
   ]
  },
  {
   "cell_type": "code",
   "execution_count": 3,
   "metadata": {},
   "outputs": [
    {
     "data": {
      "text/plain": [
       "(14.0, 0.5099999999999998)"
      ]
     },
     "execution_count": 3,
     "metadata": {},
     "output_type": "execute_result"
    }
   ],
   "source": [
    "np.divmod(14.51, 1.)"
   ]
  },
  {
   "cell_type": "code",
   "execution_count": 4,
   "metadata": {},
   "outputs": [],
   "source": [
    "def deg_mins_to_degrees(degrees, minutes, direction):\n",
    "    d = degrees + (minutes / 60.)\n",
    "    if direction in 'SW':\n",
    "        d = -d\n",
    "    return d\n",
    "\n",
    "def degrees_to_deg_mins(degrees):\n",
    "    sign = 1\n",
    "    if degrees < 0:\n",
    "        sign = -1\n",
    "        degrees = -degrees\n",
    "    whole, frac = np.divmod(degrees, 1.)\n",
    "    return (sign, int(whole), frac * 60.)\n",
    "\n",
    "def display_deg_mins(N, E):\n",
    "    sign, n_deg, n_mins = degrees_to_deg_mins(N)\n",
    "    ns = 'N' if (sign > 0) else 'S'\n",
    "    sign, e_deg, e_mins = degrees_to_deg_mins(E)\n",
    "    ew = 'E' if (sign > 0) else 'W'\n",
    "    print(\"{}° {:.5}' {}, {}° {:.5}' {}\".format(\n",
    "        n_deg, n_mins, ns, e_deg, e_mins, ew) )"
   ]
  },
  {
   "cell_type": "code",
   "execution_count": 5,
   "metadata": {},
   "outputs": [],
   "source": [
    "def generate_obstacle_course(start_ll, end_ll):\n",
    "    start_utm = np.array(projection(start_ll[1], start_ll[0]))\n",
    "    end_utm = np.array(projection(end_ll[1], end_ll[0]))\n",
    "    \n",
    "    midpoint = (start_utm + end_utm)/2\n",
    "    start_end = end_utm - start_utm\n",
    "    #start_end_distance = np.sqrt((start_end**2).sum())\n",
    "    start_end_distance = np.linalg.norm(start_end)\n",
    "    metre_along = start_end / start_end_distance\n",
    "    metre_across = np.array([-metre_along[1], metre_along[0]])\n",
    "    \n",
    "    corners = [ll[::-1] for ll in [projection(p[0], p[1], inverse=True) for p in [\n",
    "        midpoint - (10 * metre_across) - (75 * metre_along),\n",
    "        midpoint + (10 * metre_across) - (75 * metre_along),\n",
    "        midpoint + (10 * metre_across) + (75 * metre_along),\n",
    "        midpoint - (10 * metre_across) + (75 * metre_along),\n",
    "    ]]]\n",
    "    centre_zone = [ll[::-1] for ll in [projection(p[0], p[1], inverse=True) for p in [\n",
    "        midpoint - (10 * metre_across) - (25 * metre_along),\n",
    "        midpoint + (10 * metre_across) - (25 * metre_along),\n",
    "        midpoint + (10 * metre_across) + (25 * metre_along),\n",
    "        midpoint - (10 * metre_across) + (25 * metre_along),\n",
    "    ]]]\n",
    "    return corners, centre_zone"
   ]
  },
  {
   "cell_type": "code",
   "execution_count": 6,
   "metadata": {},
   "outputs": [],
   "source": [
    "marker154 = deg_mins_to_degrees(50, 49.347, 'N'), deg_mins_to_degrees(1, 18.771, 'W')\n",
    "marker155 = deg_mins_to_degrees(50, 49.237, 'N'), deg_mins_to_degrees(1, 18.834, 'W')\n",
    "marker156 = deg_mins_to_degrees(50, 49.245, 'N'), deg_mins_to_degrees(1, 18.673, 'W')"
   ]
  },
  {
   "cell_type": "code",
   "execution_count": 7,
   "metadata": {},
   "outputs": [],
   "source": [
    "course1, zone1 = generate_obstacle_course(marker155, marker156)\n",
    "course2, zone2 = generate_obstacle_course(marker154, marker155)"
   ]
  },
  {
   "cell_type": "code",
   "execution_count": 8,
   "metadata": {},
   "outputs": [],
   "source": [
    "import folium\n",
    "calshot_latlon = [50.821483, -1.311233]\n",
    "\n",
    "course1_poly = folium.features.PolygonMarker(course1, fill_opacity=0.)\n",
    "zone1_poly = folium.features.PolygonMarker(zone1, fill_opacity=0.25, popup='1')\n",
    "\n",
    "course2_poly = folium.features.PolygonMarker(course2, fill_opacity=0.)\n",
    "zone2_poly = folium.features.PolygonMarker(zone2, fill_opacity=0.25, popup='2')"
   ]
  },
  {
   "cell_type": "code",
   "execution_count": 9,
   "metadata": {},
   "outputs": [
    {
     "data": {
      "text/html": [
       "<div style=\"width:100%;\"><div style=\"position:relative;width:100%;height:0;padding-bottom:60%;\"><iframe src=\"data:text/html;charset=utf-8;base64,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\" style=\"position:absolute;width:100%;height:100%;left:0;top:0;border:none !important;\" allowfullscreen webkitallowfullscreen mozallowfullscreen></iframe></div></div>"
      ],
      "text/plain": [
       "<folium.folium.Map at 0x7f76c9238160>"
      ]
     },
     "execution_count": 9,
     "metadata": {},
     "output_type": "execute_result"
    }
   ],
   "source": [
    "map_osm = folium.Map(location=calshot_latlon, zoom_start=17)\n",
    "\n",
    "folium.Marker(marker154, popup='154').add_to(map_osm)\n",
    "folium.Marker(marker155, popup='155').add_to(map_osm)\n",
    "folium.Marker(marker156, popup='156').add_to(map_osm)\n",
    "\n",
    "map_osm.add_child(course1_poly)\n",
    "map_osm.add_child(zone1_poly)\n",
    "\n",
    "map_osm.add_child(course2_poly)\n",
    "map_osm.add_child(zone2_poly)"
   ]
  },
  {
   "cell_type": "code",
   "execution_count": 10,
   "metadata": {},
   "outputs": [],
   "source": [
    "import csv\n",
    "with open('obstacle_course_1.csv', 'w') as f:\n",
    "    cw = csv.writer(f)\n",
    "    cw.writerow(['point', 'latitude', 'longitude'])\n",
    "    for p, coord in zip('ABCD', course1):\n",
    "        cw.writerow([p, *coord])\n",
    "    \n",
    "    for p, coord in zip('EFGH', zone1):\n",
    "        cw.writerow([p, *coord])\n",
    "    \n",
    "    cw.writerow(['marker155', *marker155])\n",
    "    cw.writerow(['marker156', *marker156])"
   ]
  },
  {
   "cell_type": "code",
   "execution_count": 11,
   "metadata": {},
   "outputs": [],
   "source": [
    "import csv\n",
    "with open('obstacle_course_2.csv', 'w') as f:\n",
    "    cw = csv.writer(f)\n",
    "    cw.writerow(['point', 'latitude', 'longitude'])\n",
    "    for p, coord in zip('ABCD', course2):\n",
    "        cw.writerow([p, *coord])\n",
    "    \n",
    "    for p, coord in zip('EFGH', zone2):\n",
    "        cw.writerow([p, *coord])\n",
    "    \n",
    "    cw.writerow(['marker154', *marker154])\n",
    "    cw.writerow(['marker155', *marker155])"
   ]
  },
  {
   "cell_type": "markdown",
   "metadata": {},
   "source": [
    "Convert obstacle zones to degrees and minutes for the safety boats."
   ]
  },
  {
   "cell_type": "code",
   "execution_count": 12,
   "metadata": {
    "scrolled": true
   },
   "outputs": [
    {
     "name": "stdout",
     "output_type": "stream",
     "text": [
      "50° 49.235' N, 1° 18.774' W\n",
      "50° 49.245' N, 1° 18.775' W\n",
      "50° 49.247' N, 1° 18.733' W\n",
      "50° 49.237' N, 1° 18.732' W\n"
     ]
    }
   ],
   "source": [
    "for corner in zone1:\n",
    "    display_deg_mins(*corner)"
   ]
  },
  {
   "cell_type": "code",
   "execution_count": 13,
   "metadata": {},
   "outputs": [
    {
     "name": "stdout",
     "output_type": "stream",
     "text": [
      "50° 49.307' N, 1° 18.803' W\n",
      "50° 49.303' N, 1° 18.787' W\n",
      "50° 49.277' N, 1° 18.802' W\n",
      "50° 49.281' N, 1° 18.818' W\n"
     ]
    }
   ],
   "source": [
    "for corner in zone2:\n",
    "    display_deg_mins(*corner)"
   ]
  }
 ],
 "metadata": {
  "kernelspec": {
   "display_name": "Python 3",
   "language": "python",
   "name": "python3"
  },
  "language_info": {
   "codemirror_mode": {
    "name": "ipython",
    "version": 3
   },
   "file_extension": ".py",
   "mimetype": "text/x-python",
   "name": "python",
   "nbconvert_exporter": "python",
   "pygments_lexer": "ipython3",
   "version": "3.6.6"
  }
 },
 "nbformat": 4,
 "nbformat_minor": 2
}
