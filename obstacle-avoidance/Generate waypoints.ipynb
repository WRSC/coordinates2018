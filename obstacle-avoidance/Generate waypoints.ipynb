{
 "cells": [
  {
   "cell_type": "code",
   "execution_count": 1,
   "metadata": {},
   "outputs": [],
   "source": [
    "from pyproj import Proj\n",
    "import numpy as np"
   ]
  },
  {
   "cell_type": "code",
   "execution_count": 2,
   "metadata": {},
   "outputs": [],
   "source": [
    "# Southampton is in UTM zone 30\n",
    "utm_zone = 30\n",
    "projection = Proj(proj='utm', zone=utm_zone, ellps='WGS84')"
   ]
  },
  {
   "cell_type": "code",
   "execution_count": 3,
   "metadata": {},
   "outputs": [
    {
     "data": {
      "text/plain": [
       "(14.0, 0.5099999999999998)"
      ]
     },
     "execution_count": 3,
     "metadata": {},
     "output_type": "execute_result"
    }
   ],
   "source": [
    "np.divmod(14.51, 1.)"
   ]
  },
  {
   "cell_type": "code",
   "execution_count": 4,
   "metadata": {},
   "outputs": [],
   "source": [
    "def deg_mins_to_degrees(degrees, minutes, direction):\n",
    "    d = degrees + (minutes / 60.)\n",
    "    if direction in 'SW':\n",
    "        d = -d\n",
    "    return d\n",
    "\n",
    "def degrees_to_deg_mins(degrees):\n",
    "    sign = 1\n",
    "    if degrees < 0:\n",
    "        sign = -1\n",
    "        degrees = -degrees\n",
    "    whole, frac = np.divmod(degrees, 1.)\n",
    "    return (sign, int(whole), frac * 60.)\n",
    "\n",
    "def display_deg_mins(N, E):\n",
    "    sign, n_deg, n_mins = degrees_to_deg_mins(N)\n",
    "    ns = 'N' if (sign > 0) else 'S'\n",
    "    sign, e_deg, e_mins = degrees_to_deg_mins(E)\n",
    "    ew = 'E' if (sign > 0) else 'W'\n",
    "    print(\"{}° {:.5}' {}, {}° {:.5}' {}\".format(\n",
    "        n_deg, n_mins, ns, e_deg, e_mins, ew) )"
   ]
  },
  {
   "cell_type": "code",
   "execution_count": 5,
   "metadata": {},
   "outputs": [],
   "source": [
    "def generate_obstacle_course(start_ll, end_ll):\n",
    "    start_utm = np.array(projection(start_ll[1], start_ll[0]))\n",
    "    end_utm = np.array(projection(end_ll[1], end_ll[0]))\n",
    "    \n",
    "    midpoint = (start_utm + end_utm)/2\n",
    "    start_end = end_utm - start_utm\n",
    "    #start_end_distance = np.sqrt((start_end**2).sum())\n",
    "    start_end_distance = np.linalg.norm(start_end)\n",
    "    metre_along = start_end / start_end_distance\n",
    "    metre_across = np.array([-metre_along[1], metre_along[0]])\n",
    "    \n",
    "    corners = [ll[::-1] for ll in [projection(p[0], p[1], inverse=True) for p in [\n",
    "        midpoint - (10 * metre_across) - (75 * metre_along),\n",
    "        midpoint + (10 * metre_across) - (75 * metre_along),\n",
    "        midpoint + (10 * metre_across) + (75 * metre_along),\n",
    "        midpoint - (10 * metre_across) + (75 * metre_along),\n",
    "    ]]]\n",
    "    centre_zone = [ll[::-1] for ll in [projection(p[0], p[1], inverse=True) for p in [\n",
    "        midpoint - (10 * metre_across) - (25 * metre_along),\n",
    "        midpoint + (10 * metre_across) - (25 * metre_along),\n",
    "        midpoint + (10 * metre_across) + (25 * metre_along),\n",
    "        midpoint - (10 * metre_across) + (25 * metre_along),\n",
    "    ]]]\n",
    "    return corners, centre_zone"
   ]
  },
  {
   "cell_type": "code",
   "execution_count": 6,
   "metadata": {},
   "outputs": [],
   "source": [
    "marker154 = deg_mins_to_degrees(50, 49.347, 'N'), deg_mins_to_degrees(1, 18.771, 'W')\n",
    "marker155 = deg_mins_to_degrees(50, 49.237, 'N'), deg_mins_to_degrees(1, 18.834, 'W')\n",
    "marker156 = deg_mins_to_degrees(50, 49.245, 'N'), deg_mins_to_degrees(1, 18.673, 'W')"
   ]
  },
  {
   "cell_type": "code",
   "execution_count": 7,
   "metadata": {},
   "outputs": [],
   "source": [
    "course1, zone1 = generate_obstacle_course(marker155, marker156)\n",
    "course2, zone2 = generate_obstacle_course(marker154, marker155)"
   ]
  },
  {
   "cell_type": "code",
   "execution_count": 8,
   "metadata": {},
   "outputs": [],
   "source": [
    "import folium\n",
    "calshot_latlon = [50.821483, -1.311233]\n",
    "\n",
    "course1_poly = folium.features.PolygonMarker(course1, fill_opacity=0.)\n",
    "zone1_poly = folium.features.PolygonMarker(zone1, fill_opacity=0.25, popup='1')\n",
    "\n",
    "course2_poly = folium.features.PolygonMarker(course2, fill_opacity=0.)\n",
    "zone2_poly = folium.features.PolygonMarker(zone2, fill_opacity=0.25, popup='2')"
   ]
  },
  {
   "cell_type": "code",
   "execution_count": 9,
   "metadata": {},
   "outputs": [
    {
     "data": {
      "text/html": [
       "<div style=\"width:100%;\"><div style=\"position:relative;width:100%;height:0;padding-bottom:60%;\"><iframe src=\"data:text/html;charset=utf-8;base64,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\" style=\"position:absolute;width:100%;height:100%;left:0;top:0;border:none !important;\" allowfullscreen webkitallowfullscreen mozallowfullscreen></iframe></div></div>"
      ],
      "text/plain": [
       "<folium.folium.Map at 0x7f2869e55828>"
      ]
     },
     "execution_count": 9,
     "metadata": {},
     "output_type": "execute_result"
    }
   ],
   "source": [
    "map_osm = folium.Map(location=calshot_latlon, zoom_start=17)\n",
    "\n",
    "folium.Marker(marker154, popup='154').add_to(map_osm)\n",
    "folium.Marker(marker155, popup='155').add_to(map_osm)\n",
    "folium.Marker(marker156, popup='156').add_to(map_osm)\n",
    "\n",
    "map_osm.add_child(course1_poly)\n",
    "map_osm.add_child(zone1_poly)\n",
    "\n",
    "map_osm.add_child(course2_poly)\n",
    "map_osm.add_child(zone2_poly)"
   ]
  },
  {
   "cell_type": "code",
   "execution_count": 10,
   "metadata": {},
   "outputs": [],
   "source": [
    "import csv\n",
    "with open('obstacle_course_1.csv', 'w') as f:\n",
    "    cw = csv.writer(f)\n",
    "    cw.writerow(['point', 'latitude', 'longitude'])\n",
    "    for p, coord in zip('ABCD', course1):\n",
    "        cw.writerow([p, *coord])\n",
    "    \n",
    "    for p, coord in zip('EFGH', zone1):\n",
    "        cw.writerow([p, *coord])"
   ]
  },
  {
   "cell_type": "code",
   "execution_count": 11,
   "metadata": {},
   "outputs": [],
   "source": [
    "import csv\n",
    "with open('obstacle_course_2.csv', 'w') as f:\n",
    "    cw = csv.writer(f)\n",
    "    cw.writerow(['point', 'latitude', 'longitude'])\n",
    "    for p, coord in zip('ABCD', course2):\n",
    "        cw.writerow([p, *coord])\n",
    "    \n",
    "    for p, coord in zip('EFGH', zone2):\n",
    "        cw.writerow([p, *coord])"
   ]
  },
  {
   "cell_type": "markdown",
   "metadata": {},
   "source": [
    "Convert obstacle zones to degrees and minutes for the safety boats."
   ]
  },
  {
   "cell_type": "code",
   "execution_count": 12,
   "metadata": {
    "scrolled": true
   },
   "outputs": [
    {
     "name": "stdout",
     "output_type": "stream",
     "text": [
      "50° 49.235' N, 1° 18.774' W\n",
      "50° 49.245' N, 1° 18.775' W\n",
      "50° 49.247' N, 1° 18.733' W\n",
      "50° 49.237' N, 1° 18.732' W\n"
     ]
    }
   ],
   "source": [
    "for corner in zone1:\n",
    "    display_deg_mins(*corner)"
   ]
  },
  {
   "cell_type": "code",
   "execution_count": 13,
   "metadata": {},
   "outputs": [
    {
     "name": "stdout",
     "output_type": "stream",
     "text": [
      "50° 49.307' N, 1° 18.803' W\n",
      "50° 49.303' N, 1° 18.787' W\n",
      "50° 49.277' N, 1° 18.802' W\n",
      "50° 49.281' N, 1° 18.818' W\n"
     ]
    }
   ],
   "source": [
    "for corner in zone2:\n",
    "    display_deg_mins(*corner)"
   ]
  }
 ],
 "metadata": {
  "kernelspec": {
   "display_name": "Python 3",
   "language": "python",
   "name": "python3"
  },
  "language_info": {
   "codemirror_mode": {
    "name": "ipython",
    "version": 3
   },
   "file_extension": ".py",
   "mimetype": "text/x-python",
   "name": "python",
   "nbconvert_exporter": "python",
   "pygments_lexer": "ipython3",
   "version": "3.6.6"
  }
 },
 "nbformat": 4,
 "nbformat_minor": 2
}
